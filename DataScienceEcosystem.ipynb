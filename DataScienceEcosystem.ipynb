{
 "cells": [
  {
   "cell_type": "markdown",
   "id": "56b9affd-b39d-4f4e-8cf4-4a3473127b41",
   "metadata": {},
   "source": [
    "<H1> Data Science Tools and Ecosystem </H1>"
   ]
  },
  {
   "cell_type": "markdown",
   "id": "7701d743-bc4d-4b3f-8309-8a9763c08771",
   "metadata": {
    "tags": []
   },
   "source": [
    "<H1> Data Science Tools and Ecosystem </H1>"
   ]
  },
  {
   "cell_type": "markdown",
   "id": "2150c181-4352-4672-af39-69e5fb62fbbe",
   "metadata": {
    "tags": []
   },
   "source": [
    "In this notebook, Data Science Tools and Ecosystem are summarized."
   ]
  },
  {
   "cell_type": "markdown",
   "id": "a7918f45-0924-408e-b4b7-d44627adfc77",
   "metadata": {},
   "source": [
    "Some of the popular languages that Data Scientists use are:"
   ]
  },
  {
   "cell_type": "markdown",
   "id": "166bcbd2-7b43-4606-ba80-9ec8cab2816b",
   "metadata": {},
   "source": [
    "<ol>\n",
    "<li>Python\n",
    "<li>R\n",
    "<li>SQL\n",
    "<li>Java\n",
    "<li>Julia\n",
    "<li>Scala\n",
    "<li>JavaScript\n",
    "<li>Swift\n",
    "</ol>"
   ]
  },
  {
   "cell_type": "markdown",
   "id": "3d604352-77cc-41c9-bc98-23f2adf3b70f",
   "metadata": {},
   "source": [
    "Some of the commonly used libraries used by Data Scientists include"
   ]
  },
  {
   "cell_type": "markdown",
   "id": "33ccef26-b47b-4533-a8ca-c4ed1b22c18b",
   "metadata": {},
   "source": [
    "<ol>\n",
    "<li>TensorFlow\n",
    "<li>NumPy\n",
    "<li>SciPy \n",
    "<li>Pandas\n",
    "<li>Matplotlib \n",
    "<li>Keras\n",
    "<li>SciKit-Learn\n",
    "<li>PyTorch\n",
    "<li>Scrapy\n",
    "<li>BeautifulSoup\n",
    "<li>LightGBM\n",
    "<li>ELI5\n",
    "<li>Theano\n",
    "<li>NuPIC\n",
    "<li>Ramp\n",
    "<li>Pipenv\n",
    "<li>Bob\n",
    "<li>PyBrain\n",
    "<li>Caffe2\n",
    "<li>Chainer\n",
    "</ol>"
   ]
  },
  {
   "cell_type": "markdown",
   "id": "63037693-f4e1-42c6-a933-e6a3727500a9",
   "metadata": {
    "tags": []
   },
   "source": [
    "| Data Science Tools |\n",
    "| --- |\n",
    "| Apache Spark |\n",
    "| D3.js |\n",
    "| IBM SPSS |"
   ]
  },
  {
   "cell_type": "markdown",
   "id": "6144956b-7d4a-4a1a-aa3f-6ad84dd47aa2",
   "metadata": {
    "tags": []
   },
   "source": [
    "\n",
    "| Data Science Tools |\n",
    "| --- |\n",
    "| Apache Spark |\n",
    "| D3.js |\n",
    "| IBM SPSS |\n"
   ]
  },
  {
   "cell_type": "markdown",
   "id": "b6a66c77-5b62-45fa-87d8-da33b4c0a8ce",
   "metadata": {},
   "source": [
    "### Below are a few examples of evaluating arithmetic expressions in Python"
   ]
  },
  {
   "cell_type": "markdown",
   "id": "86aa95bf-2397-4b18-b335-24be1b4ee4da",
   "metadata": {},
   "source": [
    "| Operator | Syntax | Working |\n",
    "| --- | --- | --- |\n",
    "| / | x / y | Division of x and y |\n",
    "| // | x // y | Quotient when x is divided by y |\n",
    "| % | x % y | Remainder when x is divided by y |"
   ]
  },
  {
   "cell_type": "markdown",
   "id": "36ed3ff5-2c06-4ba0-8a11-f74859d94092",
   "metadata": {
    "tags": []
   },
   "source": [
    "| Operator | Syntax | Working |\n",
    "| --- | --- | --- |\n",
    "| / | x / y | Division of x and y |\n",
    "| // | x // y | Quotient when x is divided by y |\n",
    "| % | x % y | Remainder when x is divided by y |"
   ]
  },
  {
   "cell_type": "code",
   "execution_count": 12,
   "id": "ff7d7596-37ee-4ad3-8e16-2f0dd7cc2fda",
   "metadata": {
    "tags": []
   },
   "outputs": [
    {
     "data": {
      "text/plain": [
       "17"
      ]
     },
     "execution_count": 12,
     "metadata": {},
     "output_type": "execute_result"
    }
   ],
   "source": [
    "#This is a simple arithmetic expression to multiply then add integers\n",
    "(3*4)+5"
   ]
  },
  {
   "cell_type": "code",
   "execution_count": 18,
   "id": "4cd4cb5a-22cd-46c0-87c0-c65e15e9716c",
   "metadata": {
    "tags": []
   },
   "outputs": [
    {
     "data": {
      "text/plain": [
       "3.3333333333333335"
      ]
     },
     "execution_count": 18,
     "metadata": {},
     "output_type": "execute_result"
    }
   ],
   "source": [
    "#This will convert 200 minutes to hours by diving by 60\n",
    "200 / 60\n"
   ]
  },
  {
   "cell_type": "markdown",
   "id": "3a5b32c0-9b3a-4fce-b1f3-cee8502c349b",
   "metadata": {},
   "source": [
    "<b>Objectives:</b>"
   ]
  },
  {
   "cell_type": "markdown",
   "id": "f19677ce-d1f1-4011-b901-5ff5fae58a44",
   "metadata": {
    "tags": []
   },
   "source": [
    "<ul>\n",
    "<li>Some of the commonly used libraries used by Data Scientists include\n",
    "<li>examples of evaluating arithmetic expressions in Python\n",
    "<li>List popular languages for Data Science\n",
    "</ul>"
   ]
  },
  {
   "cell_type": "markdown",
   "id": "5c8f9742-eab3-42f8-9912-3838b0d42c27",
   "metadata": {},
   "source": [
    "## Author"
   ]
  },
  {
   "cell_type": "markdown",
   "id": "675e9196-d3b7-4d6f-b7cd-726b0588a1c5",
   "metadata": {},
   "source": [
    "Roch Lemire"
   ]
  },
  {
   "cell_type": "code",
   "execution_count": null,
   "id": "c68d7299-a9a3-4b2c-8e56-3ec6256c98dc",
   "metadata": {},
   "outputs": [],
   "source": []
  }
 ],
 "metadata": {
  "kernelspec": {
   "display_name": "Python",
   "language": "python",
   "name": "conda-env-python-py"
  },
  "language_info": {
   "codemirror_mode": {
    "name": "ipython",
    "version": 3
   },
   "file_extension": ".py",
   "mimetype": "text/x-python",
   "name": "python",
   "nbconvert_exporter": "python",
   "pygments_lexer": "ipython3",
   "version": "3.7.12"
  }
 },
 "nbformat": 4,
 "nbformat_minor": 5
}
